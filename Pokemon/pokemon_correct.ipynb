{
 "cells": [
  {
   "cell_type": "markdown",
   "metadata": {},
   "source": [
    "Sujet de Coding Club:\n",
    "\n",
    "Titre: \"Pokemon Ardent\"\n",
    "\n",
    "Auteurs: Robin Landraud, Julian Ndende\n",
    "\n",
    "Date: 18/11/2022"
   ]
  },
  {
   "cell_type": "code",
   "execution_count": null,
   "metadata": {},
   "outputs": [],
   "source": [
    "import os\n",
    "import sys\n",
    "\n",
    "directory_path = os.path.abspath(os.path.join(\"./tests/__init__.py\"))\n",
    "if directory_path not in sys.path:\n",
    "    sys.path.append(directory_path)"
   ]
  },
  {
   "cell_type": "markdown",
   "metadata": {},
   "source": [
    " <style>\n",
    ".column2 {\n",
    "  float: left;\n",
    "  width: 20%;\n",
    "  padding: 5px;\n",
    "}\n",
    "\n",
    ".column8 {\n",
    "  float: left;\n",
    "  width: 70%;\n",
    "  padding: 5px;\n",
    "}\n",
    "\n",
    ".row::after {\n",
    "  content: \"\";\n",
    "  clear: both;\n",
    "  display: table;\n",
    "}\n",
    "</style>\n",
    " \n",
    " <div class=\"row\">\n",
    "  <div class=\"column2\">\n",
    "    <img src=\"Images/clavel.png\" alt=\"professor\" style=\"width:100%\">\n",
    "  </div>\n",
    "  <div class=\"column8\">\n",
    "    <h4 style=\"margin-left: 60px;\">\n",
    "\n",
    "<b>Professeur Turum:</b>\n",
    "\n",
    "\n",
    "<em style=\"color: cyan\">\n",
    "\n",
    "Bonjour, vous venez d'arriver je présume.\n",
    "\n",
    "Chaque nouvel élève de l'académie reçoit un Pokémon. C'est la tradition.\n",
    "\n",
    "Comme vous pouvez le voir, ces trois Pokémons sont très dociles et bien éduqués.\n",
    "\n",
    "Réflechissez à votre choix et choisissez en un.\n",
    "\n",
    "C'est une décision qui ne doit pas être prise à la légère.\n",
    "\n",
    "</em>\n",
    "    </h4>\n",
    "  </div>\n",
    "</div> "
   ]
  },
  {
   "cell_type": "markdown",
   "metadata": {},
   "source": [
    " <style>\n",
    ".column2 {\n",
    "  float: left;\n",
    "  width: 40%;\n",
    "  padding: 5px;\n",
    "}\n",
    "\n",
    ".column8 {\n",
    "  float: left;\n",
    "  width: 50%;\n",
    "  padding: 5px;\n",
    "}\n",
    "\n",
    ".row::after {\n",
    "  content: \"\";\n",
    "  clear: both;\n",
    "  display: table;\n",
    "}\n",
    "</style>\n",
    " \n",
    " <div class=\"row\">\n",
    " <div class=\"column8\">\n",
    "    <h4 style=\"margin-left: 60px;\">\n",
    "\n",
    "<b>Trois pokemons s'offrent à vous:</b>\n",
    "\n",
    "<i style=\"color: yellow;\">\n",
    "\n",
    "Poussacha, le Pokémon Chat Plante.\n",
    "\n",
    "Chochodile, le Pokémon Croco Feu.\n",
    "\n",
    "Coiffeton, le pokémon Caneton.\n",
    "</i>\n",
    "    </h4>\n",
    "  </div>\n",
    "  <div class=\"column2\">\n",
    "    <img src=\"Images/starters.png\" alt=\"starters\" style=\"width:100%\">\n",
    "  </div>\n",
    "</div> "
   ]
  },
  {
   "cell_type": "markdown",
   "metadata": {},
   "source": [
    "<h2>Etape 1:</h2>\n",
    "<h5>Vous devez choisir votre <b style=\"color: yellow;\">premier Pokemon</b>.\n",
    "</h5>"
   ]
  },
  {
   "cell_type": "code",
   "execution_count": null,
   "metadata": {},
   "outputs": [],
   "source": [
    "from tests.assertions import stepone\n",
    "\n",
    "pokedex = {\n",
    "    1: \"Poussacha\",\n",
    "    4: \"Chochodile\",\n",
    "    7: \"Coiffeton\"\n",
    "}\n",
    "\n",
    "def get_pokemon_by_index(pokedex_index: int) -> str:\n",
    "    if pokedex_index in pokedex:\n",
    "        return pokedex[pokedex_index] # <-- remplacer les ... par le code adéquat\n",
    "    return \"unknown\"\n",
    "\n",
    "starter = get_pokemon_by_index(7) # <-- remplacer les ... par l'index du pokemon que vous voulez\n",
    "stepone(starter)"
   ]
  }
 ],
 "metadata": {
  "kernelspec": {
   "display_name": "Python 3.8.10 64-bit",
   "language": "python",
   "name": "python3"
  },
  "language_info": {
   "codemirror_mode": {
    "name": "ipython",
    "version": 3
   },
   "file_extension": ".py",
   "mimetype": "text/x-python",
   "name": "python",
   "nbconvert_exporter": "python",
   "pygments_lexer": "ipython3",
   "version": "3.8.10"
  },
  "orig_nbformat": 4,
  "vscode": {
   "interpreter": {
    "hash": "e7370f93d1d0cde622a1f8e1c04877d8463912d04d973331ad4851f04de6915a"
   }
  }
 },
 "nbformat": 4,
 "nbformat_minor": 2
}
