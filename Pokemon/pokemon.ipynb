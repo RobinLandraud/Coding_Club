{
 "cells": [
  {
   "cell_type": "markdown",
   "metadata": {},
   "source": [
    "Sujet de Coding Club:\n",
    "\n",
    "Titre: \"Pokemon Ardent\"\n",
    "\n",
    "Auteurs: Robin Landraud, Julian Ndende\n",
    "\n",
    "Date: 18/11/2022"
   ]
  },
  {
   "cell_type": "code",
   "execution_count": 1,
   "metadata": {},
   "outputs": [],
   "source": [
    "import os\n",
    "import sys\n",
    "from typing import List\n",
    "\n",
    "directory_path = os.path.abspath(os.path.join(\"./tests/__init__.py\"))\n",
    "if directory_path not in sys.path:\n",
    "    sys.path.append(directory_path)"
   ]
  },
  {
   "cell_type": "markdown",
   "metadata": {},
   "source": [
    " <style>\n",
    ".column2 {\n",
    "  float: left;\n",
    "  width: 20%;\n",
    "  padding: 5px;\n",
    "}\n",
    "\n",
    ".column8 {\n",
    "  float: left;\n",
    "  width: 70%;\n",
    "  padding: 5px;\n",
    "}\n",
    "\n",
    ".row::after {\n",
    "  content: \"\";\n",
    "  clear: both;\n",
    "  display: table;\n",
    "}\n",
    "</style>\n",
    " \n",
    " <div class=\"row\">\n",
    "  <div class=\"column2\">\n",
    "    <img src=\"Images/clavel.png\" alt=\"professor\" style=\"width:100%\">\n",
    "  </div>\n",
    "  <div class=\"column8\">\n",
    "    <h4 style=\"margin-left: 60px;\">\n",
    "\n",
    "<b>Professeur Turum:</b>\n",
    "\n",
    "\n",
    "<em style=\"color: cyan\">\n",
    "\n",
    "Bonjour, vous venez d'arriver je présume.\n",
    "\n",
    "Chaque nouvel élève de l'académie reçoit un Pokémon. C'est la tradition.\n",
    "\n",
    "Comme vous pouvez le voir, ces trois Pokémons sont très dociles et bien éduqués.\n",
    "\n",
    "Réflechissez à votre choix et choisissez en un.\n",
    "\n",
    "C'est une décision qui ne doit pas être prise à la légère.\n",
    "\n",
    "</em>\n",
    "    </h4>\n",
    "  </div>\n",
    "</div> "
   ]
  },
  {
   "cell_type": "markdown",
   "metadata": {},
   "source": [
    " <style>\n",
    ".column2 {\n",
    "  float: left;\n",
    "  width: 40%;\n",
    "  padding: 5px;\n",
    "}\n",
    "\n",
    ".column8 {\n",
    "  float: left;\n",
    "  width: 50%;\n",
    "  padding: 5px;\n",
    "}\n",
    "\n",
    ".row::after {\n",
    "  content: \"\";\n",
    "  clear: both;\n",
    "  display: table;\n",
    "}\n",
    "</style>\n",
    " \n",
    " <div class=\"row\">\n",
    " <div class=\"column8\">\n",
    "    <h4 style=\"margin-left: 60px;\">\n",
    "\n",
    "<b>Trois pokemons s'offrent à vous:</b>\n",
    "\n",
    "<i style=\"color: yellow;\">\n",
    "\n",
    "Poussacha, le Pokémon Chat Plante.\n",
    "\n",
    "Chochodile, le Pokémon Croco Feu.\n",
    "\n",
    "Coiffeton, le pokémon Caneton.\n",
    "</i>\n",
    "    </h4>\n",
    "  </div>\n",
    "  <div class=\"column2\">\n",
    "    <img src=\"Images/starters.png\" alt=\"starters\" style=\"width:100%\">\n",
    "  </div>\n",
    "</div> "
   ]
  },
  {
   "cell_type": "markdown",
   "metadata": {},
   "source": [
    "<h2>Etape 1:</h2>\n",
    "<h5>Vous devez choisir votre <b style=\"color: yellow;\">premier Pokemon</b>.\n",
    "</h5>"
   ]
  },
  {
   "cell_type": "code",
   "execution_count": 1,
   "metadata": {},
   "outputs": [
    {
     "ename": "ModuleNotFoundError",
     "evalue": "No module named 'Pokemon'",
     "output_type": "error",
     "traceback": [
      "\u001b[0;31m---------------------------------------------------------------------------\u001b[0m",
      "\u001b[0;31mModuleNotFoundError\u001b[0m                       Traceback (most recent call last)",
      "Cell \u001b[0;32mIn [1], line 1\u001b[0m\n\u001b[0;32m----> 1\u001b[0m \u001b[39mfrom\u001b[39;00m \u001b[39mtests\u001b[39;00m\u001b[39m.\u001b[39;00m\u001b[39massertions\u001b[39;00m \u001b[39mimport\u001b[39;00m stepone\n\u001b[1;32m      2\u001b[0m \u001b[39mfrom\u001b[39;00m \u001b[39mtests\u001b[39;00m\u001b[39m.\u001b[39;00m\u001b[39massertions\u001b[39;00m \u001b[39mimport\u001b[39;00m Pokemon\n\u001b[1;32m      4\u001b[0m pokemons: List[\u001b[39mstr\u001b[39m] \u001b[39m=\u001b[39m []\n",
      "File \u001b[0;32m~/epitech/C-TRIMESTRE_5/Coding_Club/Pokemon/tests/__init__.py:2\u001b[0m\n\u001b[1;32m      1\u001b[0m \u001b[39mfrom\u001b[39;00m \u001b[39mtests\u001b[39;00m\u001b[39m.\u001b[39;00m\u001b[39massertions\u001b[39;00m \u001b[39mimport\u001b[39;00m stepone\n\u001b[0;32m----> 2\u001b[0m \u001b[39mfrom\u001b[39;00m \u001b[39mPokemon\u001b[39;00m \u001b[39mimport\u001b[39;00m Pokemon\n",
      "\u001b[0;31mModuleNotFoundError\u001b[0m: No module named 'Pokemon'"
     ]
    }
   ],
   "source": [
    "from tests.assertions import stepone\n",
    "from tests.assertions import Pokemon\n",
    "\n",
    "pokemons: List[str] = []\n",
    "\n",
    "pokedex = {\n",
    "    1: \"Poussacha\",\n",
    "    4: \"Chochodile\",\n",
    "    7: \"Coiffeton\"\n",
    "}\n",
    "\n",
    "def get_pokemon_by_index(pokedex_index: int) -> str:\n",
    "    if pokedex_index in pokedex:\n",
    "        return ... # <-- remplacer les ... par le code adéquat\n",
    "    return \"unknown\"\n",
    "\n",
    "starter = get_pokemon_by_index(...) # <-- remplacer les ... par l'index du pokemon que vous voulez\n",
    "stepone(starter)"
   ]
  }
 ],
 "metadata": {
  "kernelspec": {
   "display_name": "Python 3.8.10 64-bit",
   "language": "python",
   "name": "python3"
  },
  "language_info": {
   "codemirror_mode": {
    "name": "ipython",
    "version": 3
   },
   "file_extension": ".py",
   "mimetype": "text/x-python",
   "name": "python",
   "nbconvert_exporter": "python",
   "pygments_lexer": "ipython3",
   "version": "3.10.8"
  },
  "orig_nbformat": 4,
  "vscode": {
   "interpreter": {
    "hash": "e7370f93d1d0cde622a1f8e1c04877d8463912d04d973331ad4851f04de6915a"
   }
  }
 },
 "nbformat": 4,
 "nbformat_minor": 2
}
